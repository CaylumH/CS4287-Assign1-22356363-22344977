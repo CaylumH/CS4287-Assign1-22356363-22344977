{
 "cells": [
  {
   "cell_type": "code",
   "execution_count": 31,
   "id": "cca19ebd",
   "metadata": {},
   "outputs": [],
   "source": [
    "# Joe Considine (22344977)\n",
    "# Caylum Hurley (22356363)\n",
    "\n",
    "#Does code execute without errors?\n",
    "#Dataset used: Dataset of images with handritten numbers from 0 to 9 on each one"
   ]
  },
  {
   "cell_type": "code",
   "execution_count": 47,
   "id": "596bc881",
   "metadata": {},
   "outputs": [],
   "source": [
    "# Imports\n",
    "\n",
    "import tensorflow as tf\n",
    "from tensorflow import keras\n",
    "from tensorflow.keras import layers\n",
    "from tensorflow.keras.utils import plot_model\n",
    "import matplotlib.pyplot as plt\n",
    "import numpy as np\n",
    "from sklearn.metrics import classification_report\n",
    "from sklearn.model_selection import KFold"
   ]
  },
  {
   "cell_type": "code",
   "execution_count": 33,
   "id": "c8e6ba30",
   "metadata": {},
   "outputs": [],
   "source": [
    "#Setting random seed for reproducibility\n",
    "np.random.seed(1671)\n",
    "tf.random.set_seed(1671)\n",
    "\n",
    "EPOCHS = 5          # How many times the network will look at all training data\n",
    "BATCH_SIZE = 128      # How many images at a time the network looks at before updating weights\n",
    "NB_CLASSES = 10       # 10 digits (0–9)\n",
    "N_HIDDEN = 128        # Number of neurons in hidden layer\n",
    "VALIDATION_SPLIT=0.2  # 20% of training data used to check performance during training"
   ]
  },
  {
   "cell_type": "code",
   "execution_count": 34,
   "id": "2a7e6c9f",
   "metadata": {},
   "outputs": [
    {
     "name": "stdout",
     "output_type": "stream",
     "text": [
      "Training data shape: {(60000, 28, 28)}\n",
      "Test data shape: (10000, 28, 28)\n"
     ]
    }
   ],
   "source": [
    "(x_train, y_train), (x_test, y_test) = keras.datasets.mnist.load_data() # Load MNIST dataset\n",
    "\n",
    "# x_train is training image to teach the model\n",
    "# y_train is the label (Correct answer) for the training image\n",
    "# x_test is testing image (new unseen image) to test the model to see how well it has learned\n",
    "# y_test is the label (Correct answer) for the testing image\n",
    "\n",
    "print(\"Training data shape:\", {x_train.shape})\n",
    "print(\"Test data shape:\", x_test.shape)"
   ]
  },
  {
   "cell_type": "code",
   "execution_count": 35,
   "id": "14d4d719",
   "metadata": {},
   "outputs": [],
   "source": [
    "# Normalize pixel values to be between 0 and 1 instead of 0 to 255\n",
    "X_train = x_train / 255\n",
    "X_test = x_test / 255\n",
    "\n",
    "#Reshape images to include channel dimension of 28*28*1\n",
    "X_train = X_train.reshape(-1, 28, 28, 1)\n",
    "X_test = X_test.reshape(-1, 28, 28, 1)\n",
    "\n",
    "#Number of output classes 0-9\n",
    "number_of_classes = 10"
   ]
  },
  {
   "cell_type": "code",
   "execution_count": null,
   "id": "bc0aa41e",
   "metadata": {},
   "outputs": [
    {
     "data": {
      "text/html": [
       "<pre style=\"white-space:pre;overflow-x:auto;line-height:normal;font-family:Menlo,'DejaVu Sans Mono',consolas,'Courier New',monospace\"><span style=\"font-weight: bold\">Model: \"sequential_6\"</span>\n",
       "</pre>\n"
      ],
      "text/plain": [
       "\u001b[1mModel: \"sequential_6\"\u001b[0m\n"
      ]
     },
     "metadata": {},
     "output_type": "display_data"
    },
    {
     "data": {
      "text/html": [
       "<pre style=\"white-space:pre;overflow-x:auto;line-height:normal;font-family:Menlo,'DejaVu Sans Mono',consolas,'Courier New',monospace\">┏━━━━━━━━━━━━━━━━━━━━━━━━━━━━━━━━━┳━━━━━━━━━━━━━━━━━━━━━━━━┳━━━━━━━━━━━━━━━┓\n",
       "┃<span style=\"font-weight: bold\"> Layer (type)                    </span>┃<span style=\"font-weight: bold\"> Output Shape           </span>┃<span style=\"font-weight: bold\">       Param # </span>┃\n",
       "┡━━━━━━━━━━━━━━━━━━━━━━━━━━━━━━━━━╇━━━━━━━━━━━━━━━━━━━━━━━━╇━━━━━━━━━━━━━━━┩\n",
       "│ conv2d_18 (<span style=\"color: #0087ff; text-decoration-color: #0087ff\">Conv2D</span>)              │ (<span style=\"color: #00d7ff; text-decoration-color: #00d7ff\">None</span>, <span style=\"color: #00af00; text-decoration-color: #00af00\">26</span>, <span style=\"color: #00af00; text-decoration-color: #00af00\">26</span>, <span style=\"color: #00af00; text-decoration-color: #00af00\">64</span>)     │           <span style=\"color: #00af00; text-decoration-color: #00af00\">640</span> │\n",
       "├─────────────────────────────────┼────────────────────────┼───────────────┤\n",
       "│ batch_normalization_18          │ (<span style=\"color: #00d7ff; text-decoration-color: #00d7ff\">None</span>, <span style=\"color: #00af00; text-decoration-color: #00af00\">26</span>, <span style=\"color: #00af00; text-decoration-color: #00af00\">26</span>, <span style=\"color: #00af00; text-decoration-color: #00af00\">64</span>)     │           <span style=\"color: #00af00; text-decoration-color: #00af00\">256</span> │\n",
       "│ (<span style=\"color: #0087ff; text-decoration-color: #0087ff\">BatchNormalization</span>)            │                        │               │\n",
       "├─────────────────────────────────┼────────────────────────┼───────────────┤\n",
       "│ max_pooling2d_12 (<span style=\"color: #0087ff; text-decoration-color: #0087ff\">MaxPooling2D</span>) │ (<span style=\"color: #00d7ff; text-decoration-color: #00d7ff\">None</span>, <span style=\"color: #00af00; text-decoration-color: #00af00\">13</span>, <span style=\"color: #00af00; text-decoration-color: #00af00\">13</span>, <span style=\"color: #00af00; text-decoration-color: #00af00\">64</span>)     │             <span style=\"color: #00af00; text-decoration-color: #00af00\">0</span> │\n",
       "├─────────────────────────────────┼────────────────────────┼───────────────┤\n",
       "│ conv2d_19 (<span style=\"color: #0087ff; text-decoration-color: #0087ff\">Conv2D</span>)              │ (<span style=\"color: #00d7ff; text-decoration-color: #00d7ff\">None</span>, <span style=\"color: #00af00; text-decoration-color: #00af00\">11</span>, <span style=\"color: #00af00; text-decoration-color: #00af00\">11</span>, <span style=\"color: #00af00; text-decoration-color: #00af00\">128</span>)    │        <span style=\"color: #00af00; text-decoration-color: #00af00\">73,856</span> │\n",
       "├─────────────────────────────────┼────────────────────────┼───────────────┤\n",
       "│ batch_normalization_19          │ (<span style=\"color: #00d7ff; text-decoration-color: #00d7ff\">None</span>, <span style=\"color: #00af00; text-decoration-color: #00af00\">11</span>, <span style=\"color: #00af00; text-decoration-color: #00af00\">11</span>, <span style=\"color: #00af00; text-decoration-color: #00af00\">128</span>)    │           <span style=\"color: #00af00; text-decoration-color: #00af00\">512</span> │\n",
       "│ (<span style=\"color: #0087ff; text-decoration-color: #0087ff\">BatchNormalization</span>)            │                        │               │\n",
       "├─────────────────────────────────┼────────────────────────┼───────────────┤\n",
       "│ max_pooling2d_13 (<span style=\"color: #0087ff; text-decoration-color: #0087ff\">MaxPooling2D</span>) │ (<span style=\"color: #00d7ff; text-decoration-color: #00d7ff\">None</span>, <span style=\"color: #00af00; text-decoration-color: #00af00\">5</span>, <span style=\"color: #00af00; text-decoration-color: #00af00\">5</span>, <span style=\"color: #00af00; text-decoration-color: #00af00\">128</span>)      │             <span style=\"color: #00af00; text-decoration-color: #00af00\">0</span> │\n",
       "├─────────────────────────────────┼────────────────────────┼───────────────┤\n",
       "│ conv2d_20 (<span style=\"color: #0087ff; text-decoration-color: #0087ff\">Conv2D</span>)              │ (<span style=\"color: #00d7ff; text-decoration-color: #00d7ff\">None</span>, <span style=\"color: #00af00; text-decoration-color: #00af00\">3</span>, <span style=\"color: #00af00; text-decoration-color: #00af00\">3</span>, <span style=\"color: #00af00; text-decoration-color: #00af00\">256</span>)      │       <span style=\"color: #00af00; text-decoration-color: #00af00\">295,168</span> │\n",
       "├─────────────────────────────────┼────────────────────────┼───────────────┤\n",
       "│ batch_normalization_20          │ (<span style=\"color: #00d7ff; text-decoration-color: #00d7ff\">None</span>, <span style=\"color: #00af00; text-decoration-color: #00af00\">3</span>, <span style=\"color: #00af00; text-decoration-color: #00af00\">3</span>, <span style=\"color: #00af00; text-decoration-color: #00af00\">256</span>)      │         <span style=\"color: #00af00; text-decoration-color: #00af00\">1,024</span> │\n",
       "│ (<span style=\"color: #0087ff; text-decoration-color: #0087ff\">BatchNormalization</span>)            │                        │               │\n",
       "├─────────────────────────────────┼────────────────────────┼───────────────┤\n",
       "│ flatten_6 (<span style=\"color: #0087ff; text-decoration-color: #0087ff\">Flatten</span>)             │ (<span style=\"color: #00d7ff; text-decoration-color: #00d7ff\">None</span>, <span style=\"color: #00af00; text-decoration-color: #00af00\">2304</span>)           │             <span style=\"color: #00af00; text-decoration-color: #00af00\">0</span> │\n",
       "├─────────────────────────────────┼────────────────────────┼───────────────┤\n",
       "│ dense_18 (<span style=\"color: #0087ff; text-decoration-color: #0087ff\">Dense</span>)                │ (<span style=\"color: #00d7ff; text-decoration-color: #00d7ff\">None</span>, <span style=\"color: #00af00; text-decoration-color: #00af00\">512</span>)            │     <span style=\"color: #00af00; text-decoration-color: #00af00\">1,180,160</span> │\n",
       "├─────────────────────────────────┼────────────────────────┼───────────────┤\n",
       "│ dropout_12 (<span style=\"color: #0087ff; text-decoration-color: #0087ff\">Dropout</span>)            │ (<span style=\"color: #00d7ff; text-decoration-color: #00d7ff\">None</span>, <span style=\"color: #00af00; text-decoration-color: #00af00\">512</span>)            │             <span style=\"color: #00af00; text-decoration-color: #00af00\">0</span> │\n",
       "├─────────────────────────────────┼────────────────────────┼───────────────┤\n",
       "│ dense_19 (<span style=\"color: #0087ff; text-decoration-color: #0087ff\">Dense</span>)                │ (<span style=\"color: #00d7ff; text-decoration-color: #00d7ff\">None</span>, <span style=\"color: #00af00; text-decoration-color: #00af00\">256</span>)            │       <span style=\"color: #00af00; text-decoration-color: #00af00\">131,328</span> │\n",
       "├─────────────────────────────────┼────────────────────────┼───────────────┤\n",
       "│ dropout_13 (<span style=\"color: #0087ff; text-decoration-color: #0087ff\">Dropout</span>)            │ (<span style=\"color: #00d7ff; text-decoration-color: #00d7ff\">None</span>, <span style=\"color: #00af00; text-decoration-color: #00af00\">256</span>)            │             <span style=\"color: #00af00; text-decoration-color: #00af00\">0</span> │\n",
       "├─────────────────────────────────┼────────────────────────┼───────────────┤\n",
       "│ dense_20 (<span style=\"color: #0087ff; text-decoration-color: #0087ff\">Dense</span>)                │ (<span style=\"color: #00d7ff; text-decoration-color: #00d7ff\">None</span>, <span style=\"color: #00af00; text-decoration-color: #00af00\">10</span>)             │         <span style=\"color: #00af00; text-decoration-color: #00af00\">2,570</span> │\n",
       "├─────────────────────────────────┼────────────────────────┼───────────────┤\n",
       "│ activation_6 (<span style=\"color: #0087ff; text-decoration-color: #0087ff\">Activation</span>)       │ (<span style=\"color: #00d7ff; text-decoration-color: #00d7ff\">None</span>, <span style=\"color: #00af00; text-decoration-color: #00af00\">10</span>)             │             <span style=\"color: #00af00; text-decoration-color: #00af00\">0</span> │\n",
       "└─────────────────────────────────┴────────────────────────┴───────────────┘\n",
       "</pre>\n"
      ],
      "text/plain": [
       "┏━━━━━━━━━━━━━━━━━━━━━━━━━━━━━━━━━┳━━━━━━━━━━━━━━━━━━━━━━━━┳━━━━━━━━━━━━━━━┓\n",
       "┃\u001b[1m \u001b[0m\u001b[1mLayer (type)                   \u001b[0m\u001b[1m \u001b[0m┃\u001b[1m \u001b[0m\u001b[1mOutput Shape          \u001b[0m\u001b[1m \u001b[0m┃\u001b[1m \u001b[0m\u001b[1m      Param #\u001b[0m\u001b[1m \u001b[0m┃\n",
       "┡━━━━━━━━━━━━━━━━━━━━━━━━━━━━━━━━━╇━━━━━━━━━━━━━━━━━━━━━━━━╇━━━━━━━━━━━━━━━┩\n",
       "│ conv2d_18 (\u001b[38;5;33mConv2D\u001b[0m)              │ (\u001b[38;5;45mNone\u001b[0m, \u001b[38;5;34m26\u001b[0m, \u001b[38;5;34m26\u001b[0m, \u001b[38;5;34m64\u001b[0m)     │           \u001b[38;5;34m640\u001b[0m │\n",
       "├─────────────────────────────────┼────────────────────────┼───────────────┤\n",
       "│ batch_normalization_18          │ (\u001b[38;5;45mNone\u001b[0m, \u001b[38;5;34m26\u001b[0m, \u001b[38;5;34m26\u001b[0m, \u001b[38;5;34m64\u001b[0m)     │           \u001b[38;5;34m256\u001b[0m │\n",
       "│ (\u001b[38;5;33mBatchNormalization\u001b[0m)            │                        │               │\n",
       "├─────────────────────────────────┼────────────────────────┼───────────────┤\n",
       "│ max_pooling2d_12 (\u001b[38;5;33mMaxPooling2D\u001b[0m) │ (\u001b[38;5;45mNone\u001b[0m, \u001b[38;5;34m13\u001b[0m, \u001b[38;5;34m13\u001b[0m, \u001b[38;5;34m64\u001b[0m)     │             \u001b[38;5;34m0\u001b[0m │\n",
       "├─────────────────────────────────┼────────────────────────┼───────────────┤\n",
       "│ conv2d_19 (\u001b[38;5;33mConv2D\u001b[0m)              │ (\u001b[38;5;45mNone\u001b[0m, \u001b[38;5;34m11\u001b[0m, \u001b[38;5;34m11\u001b[0m, \u001b[38;5;34m128\u001b[0m)    │        \u001b[38;5;34m73,856\u001b[0m │\n",
       "├─────────────────────────────────┼────────────────────────┼───────────────┤\n",
       "│ batch_normalization_19          │ (\u001b[38;5;45mNone\u001b[0m, \u001b[38;5;34m11\u001b[0m, \u001b[38;5;34m11\u001b[0m, \u001b[38;5;34m128\u001b[0m)    │           \u001b[38;5;34m512\u001b[0m │\n",
       "│ (\u001b[38;5;33mBatchNormalization\u001b[0m)            │                        │               │\n",
       "├─────────────────────────────────┼────────────────────────┼───────────────┤\n",
       "│ max_pooling2d_13 (\u001b[38;5;33mMaxPooling2D\u001b[0m) │ (\u001b[38;5;45mNone\u001b[0m, \u001b[38;5;34m5\u001b[0m, \u001b[38;5;34m5\u001b[0m, \u001b[38;5;34m128\u001b[0m)      │             \u001b[38;5;34m0\u001b[0m │\n",
       "├─────────────────────────────────┼────────────────────────┼───────────────┤\n",
       "│ conv2d_20 (\u001b[38;5;33mConv2D\u001b[0m)              │ (\u001b[38;5;45mNone\u001b[0m, \u001b[38;5;34m3\u001b[0m, \u001b[38;5;34m3\u001b[0m, \u001b[38;5;34m256\u001b[0m)      │       \u001b[38;5;34m295,168\u001b[0m │\n",
       "├─────────────────────────────────┼────────────────────────┼───────────────┤\n",
       "│ batch_normalization_20          │ (\u001b[38;5;45mNone\u001b[0m, \u001b[38;5;34m3\u001b[0m, \u001b[38;5;34m3\u001b[0m, \u001b[38;5;34m256\u001b[0m)      │         \u001b[38;5;34m1,024\u001b[0m │\n",
       "│ (\u001b[38;5;33mBatchNormalization\u001b[0m)            │                        │               │\n",
       "├─────────────────────────────────┼────────────────────────┼───────────────┤\n",
       "│ flatten_6 (\u001b[38;5;33mFlatten\u001b[0m)             │ (\u001b[38;5;45mNone\u001b[0m, \u001b[38;5;34m2304\u001b[0m)           │             \u001b[38;5;34m0\u001b[0m │\n",
       "├─────────────────────────────────┼────────────────────────┼───────────────┤\n",
       "│ dense_18 (\u001b[38;5;33mDense\u001b[0m)                │ (\u001b[38;5;45mNone\u001b[0m, \u001b[38;5;34m512\u001b[0m)            │     \u001b[38;5;34m1,180,160\u001b[0m │\n",
       "├─────────────────────────────────┼────────────────────────┼───────────────┤\n",
       "│ dropout_12 (\u001b[38;5;33mDropout\u001b[0m)            │ (\u001b[38;5;45mNone\u001b[0m, \u001b[38;5;34m512\u001b[0m)            │             \u001b[38;5;34m0\u001b[0m │\n",
       "├─────────────────────────────────┼────────────────────────┼───────────────┤\n",
       "│ dense_19 (\u001b[38;5;33mDense\u001b[0m)                │ (\u001b[38;5;45mNone\u001b[0m, \u001b[38;5;34m256\u001b[0m)            │       \u001b[38;5;34m131,328\u001b[0m │\n",
       "├─────────────────────────────────┼────────────────────────┼───────────────┤\n",
       "│ dropout_13 (\u001b[38;5;33mDropout\u001b[0m)            │ (\u001b[38;5;45mNone\u001b[0m, \u001b[38;5;34m256\u001b[0m)            │             \u001b[38;5;34m0\u001b[0m │\n",
       "├─────────────────────────────────┼────────────────────────┼───────────────┤\n",
       "│ dense_20 (\u001b[38;5;33mDense\u001b[0m)                │ (\u001b[38;5;45mNone\u001b[0m, \u001b[38;5;34m10\u001b[0m)             │         \u001b[38;5;34m2,570\u001b[0m │\n",
       "├─────────────────────────────────┼────────────────────────┼───────────────┤\n",
       "│ activation_6 (\u001b[38;5;33mActivation\u001b[0m)       │ (\u001b[38;5;45mNone\u001b[0m, \u001b[38;5;34m10\u001b[0m)             │             \u001b[38;5;34m0\u001b[0m │\n",
       "└─────────────────────────────────┴────────────────────────┴───────────────┘\n"
      ]
     },
     "metadata": {},
     "output_type": "display_data"
    },
    {
     "data": {
      "text/html": [
       "<pre style=\"white-space:pre;overflow-x:auto;line-height:normal;font-family:Menlo,'DejaVu Sans Mono',consolas,'Courier New',monospace\"><span style=\"font-weight: bold\"> Total params: </span><span style=\"color: #00af00; text-decoration-color: #00af00\">1,685,514</span> (6.43 MB)\n",
       "</pre>\n"
      ],
      "text/plain": [
       "\u001b[1m Total params: \u001b[0m\u001b[38;5;34m1,685,514\u001b[0m (6.43 MB)\n"
      ]
     },
     "metadata": {},
     "output_type": "display_data"
    },
    {
     "data": {
      "text/html": [
       "<pre style=\"white-space:pre;overflow-x:auto;line-height:normal;font-family:Menlo,'DejaVu Sans Mono',consolas,'Courier New',monospace\"><span style=\"font-weight: bold\"> Trainable params: </span><span style=\"color: #00af00; text-decoration-color: #00af00\">1,684,618</span> (6.43 MB)\n",
       "</pre>\n"
      ],
      "text/plain": [
       "\u001b[1m Trainable params: \u001b[0m\u001b[38;5;34m1,684,618\u001b[0m (6.43 MB)\n"
      ]
     },
     "metadata": {},
     "output_type": "display_data"
    },
    {
     "data": {
      "text/html": [
       "<pre style=\"white-space:pre;overflow-x:auto;line-height:normal;font-family:Menlo,'DejaVu Sans Mono',consolas,'Courier New',monospace\"><span style=\"font-weight: bold\"> Non-trainable params: </span><span style=\"color: #00af00; text-decoration-color: #00af00\">896</span> (3.50 KB)\n",
       "</pre>\n"
      ],
      "text/plain": [
       "\u001b[1m Non-trainable params: \u001b[0m\u001b[38;5;34m896\u001b[0m (3.50 KB)\n"
      ]
     },
     "metadata": {},
     "output_type": "display_data"
    },
    {
     "name": "stdout",
     "output_type": "stream",
     "text": [
      "You must install pydot (`pip install pydot`) for `plot_model` to work.\n"
     ]
    }
   ],
   "source": [
    "def build_model(input_size=(28,28,1), number_of_classes=10): #Function to build CNN model\n",
    "    model = tf.keras.models.Sequential([\n",
    "        tf.keras.Input(shape=input_size), #Input 28*28\n",
    "        \n",
    "        #Add first convolutional layer. Uses 64 filters of kernel size 3x3 to extract low spatial features like corners and edges\n",
    "        layers.Conv2D(64, kernel_size= (3,3), activation='relu'), #64 filters of 3*3 size\n",
    "        layers.BatchNormalization(), #Batch normalization to improve training speed and stability\n",
    "        layers.MaxPooling2D(pool_size=(2, 2)), #Max pooling to reduce spatial dimensions\n",
    "    \n",
    "        #Add second convolutional layer. This time 128 filters of 3x3 kernel size\n",
    "        layers.Conv2D(128, kernel_size=(3, 3), activation='relu'), #128 filters of 3*3 size\n",
    "        layers.BatchNormalization(),\n",
    "        layers.MaxPooling2D(pool_size=(2, 2)),\n",
    "    \n",
    "        #Add third convolutional layer. Now 256 filters of 3x3 size\n",
    "        layers.Conv2D(256, kernel_size=(3, 3), activation='relu'), #256 filters\n",
    "        layers.BatchNormalization(),\n",
    "    \n",
    "        #Flattten the output for fully connected layers\n",
    "        layers.Flatten(), #Flatten output to 1D\n",
    "        layers.Dense(512, activation='relu'), #Fully connected layer with 512 neurons\n",
    "        layers.Dropout(0.5), #Dropout to prevent overfitting, randomly disable 50% of neurons during training to help generalise any unseen data\n",
    "        layers.Dense(256, activation='relu'), #Another fully connected layer with 256 neurons\n",
    "        layers.Dropout(0.5), #Another dropout to prevent the overfitting\n",
    "    \n",
    "        #Output layer, using softmax activation for multi-class classification\n",
    "        layers.Dense(number_of_classes), #10 output classes\n",
    "        layers.Activation('softmax') #Softmax activation for multi-class classification\n",
    "    ])\n",
    "    \n",
    "    #Compile CNN model\n",
    "    model.compile(\n",
    "        optimizer='adam',  # Optimizer adjusts weights during training, chosen for its adaptive learning rate\n",
    "        loss='sparse_categorical_crossentropy',  # Loss function for multi-class labels\n",
    "        metrics=['accuracy']  # Track accuracy during training\n",
    "    )\n",
    "    return model\n",
    "\n",
    "model = build_model()\n",
    "model.summary()  # Print model \n",
    "#TODO Fix why below line does not work properly\n",
    "plot_model(model, to_file='model_structure.png', show_shapes=True, show_layer_names=True)  # Save PNG diagram of the CNN\n"
   ]
  },
  {
   "cell_type": "code",
   "execution_count": null,
   "id": "03daf1d9",
   "metadata": {},
   "outputs": [],
   "source": []
  },
  {
   "cell_type": "code",
   "execution_count": 37,
   "id": "363b342e",
   "metadata": {},
   "outputs": [],
   "source": [
    "#model.compile(optimizer='SGD',\n",
    "              #loss='categorical_crossentropy',\n",
    "              #metrics=['accuracy'])\n"
   ]
  },
  {
   "cell_type": "code",
   "execution_count": 38,
   "id": "a318e041",
   "metadata": {},
   "outputs": [],
   "source": [
    "#model.compile(\n",
    "    #optimizer='adam',  # Optimizer adjusts weights during training\n",
    "    #loss='sparse_categorical_crossentropy',  # Loss function for multi-class labels\n",
    "    #metrics=['accuracy']  # Track accuracy during training\n",
    "#)"
   ]
  },
  {
   "cell_type": "code",
   "execution_count": 39,
   "id": "6df66569",
   "metadata": {},
   "outputs": [
    {
     "name": "stdout",
     "output_type": "stream",
     "text": [
      "Epoch 1/5\n",
      "\u001b[1m375/375\u001b[0m \u001b[32m━━━━━━━━━━━━━━━━━━━━\u001b[0m\u001b[37m\u001b[0m \u001b[1m83s\u001b[0m 206ms/step - accuracy: 0.8717 - loss: 0.4416 - val_accuracy: 0.1528 - val_loss: 13.5863\n",
      "Epoch 2/5\n",
      "\u001b[1m375/375\u001b[0m \u001b[32m━━━━━━━━━━━━━━━━━━━━\u001b[0m\u001b[37m\u001b[0m \u001b[1m72s\u001b[0m 193ms/step - accuracy: 0.9768 - loss: 0.0843 - val_accuracy: 0.9707 - val_loss: 0.1059\n",
      "Epoch 3/5\n",
      "\u001b[1m375/375\u001b[0m \u001b[32m━━━━━━━━━━━━━━━━━━━━\u001b[0m\u001b[37m\u001b[0m \u001b[1m70s\u001b[0m 187ms/step - accuracy: 0.9834 - loss: 0.0585 - val_accuracy: 0.9841 - val_loss: 0.0552\n",
      "Epoch 4/5\n",
      "\u001b[1m375/375\u001b[0m \u001b[32m━━━━━━━━━━━━━━━━━━━━\u001b[0m\u001b[37m\u001b[0m \u001b[1m71s\u001b[0m 189ms/step - accuracy: 0.9859 - loss: 0.0499 - val_accuracy: 0.9852 - val_loss: 0.0555\n",
      "Epoch 5/5\n",
      "\u001b[1m375/375\u001b[0m \u001b[32m━━━━━━━━━━━━━━━━━━━━\u001b[0m\u001b[37m\u001b[0m \u001b[1m74s\u001b[0m 198ms/step - accuracy: 0.9886 - loss: 0.0401 - val_accuracy: 0.9886 - val_loss: 0.0480\n"
     ]
    }
   ],
   "source": [
    "#ReLU used to have non-linearity and to avoid vanishing gradients\n",
    "# Fits the model on the training data\n",
    "model_history = model.fit(\n",
    "    X_train, y_train, # Training data\n",
    "    batch_size = BATCH_SIZE, # Batch size (128) gives a balance between gradient stability and speed of computation\n",
    "    epochs = EPOCHS, #Epochs (25) to ensure high  and low loss\n",
    "    validation_split = VALIDATION_SPLIT, # Validation data to monitor performance, reserves 20% of data to monitor generalisation\n",
    "    verbose = 1 # Verbosity level (1 = progress bar\n",
    ")\n"
   ]
  },
  {
   "cell_type": "code",
   "execution_count": 40,
   "id": "bc9349cc",
   "metadata": {},
   "outputs": [],
   "source": [
    "#model_history = model.fit(X_train, y_train,\n",
    "                          #batch_size=BATCH_SIZE,\n",
    "                          #epochs=EPOCHS,\n",
    "                          #verbose=1,\n",
    "                          #validation_split=VALIDATION_SPLIT)\n"
   ]
  },
  {
   "cell_type": "code",
   "execution_count": 41,
   "id": "541b756b",
   "metadata": {},
   "outputs": [
    {
     "name": "stdout",
     "output_type": "stream",
     "text": [
      "Test accuracy:  0.9883999824523926\n",
      "Test loss:  0.04740442335605621\n",
      "\u001b[1m313/313\u001b[0m \u001b[32m━━━━━━━━━━━━━━━━━━━━\u001b[0m\u001b[37m\u001b[0m \u001b[1m7s\u001b[0m 20ms/step\n",
      "Classification Report: \n",
      "              precision    recall  f1-score   support\n",
      "\n",
      "           0      0.989     0.996     0.992       980\n",
      "           1      0.991     0.995     0.993      1135\n",
      "           2      0.990     0.985     0.988      1032\n",
      "           3      0.985     0.997     0.991      1010\n",
      "           4      0.995     0.976     0.985       982\n",
      "           5      0.985     0.989     0.987       892\n",
      "           6      0.990     0.987     0.989       958\n",
      "           7      0.986     0.991     0.989      1028\n",
      "           8      0.995     0.983     0.989       974\n",
      "           9      0.977     0.984     0.981      1009\n",
      "\n",
      "    accuracy                          0.988     10000\n",
      "   macro avg      0.988     0.988     0.988     10000\n",
      "weighted avg      0.988     0.988     0.988     10000\n",
      "\n"
     ]
    }
   ],
   "source": [
    "# Evaluate model on test data\n",
    "\n",
    "test_loss, test_acc = model.evaluate(X_test, y_test, verbose = 0)\n",
    "print('Test accuracy: ', test_acc) #Print test accuracy\n",
    "print(\"Test loss: \", test_loss) #Print test loss\n",
    "\n",
    "#Get prediction and print with classification report\n",
    "y_prediction = np.argmax(model.predict(X_test), axis=-1)\n",
    "print(\"Classification Report: \")\n",
    "print(classification_report(y_test, y_prediction, digits=3))"
   ]
  },
  {
   "cell_type": "code",
   "execution_count": null,
   "id": "32f1af84",
   "metadata": {},
   "outputs": [],
   "source": [
    "#High precison and high recall show a balanced performance for all 10 digits"
   ]
  },
  {
   "cell_type": "code",
   "execution_count": 42,
   "id": "470e4686",
   "metadata": {},
   "outputs": [
    {
     "data": {
      "image/png": "[encoded data removed]",
      "text/plain": [
       "<Figure size 1200x400 with 2 Axes>"
      ]
     },
     "metadata": {},
     "output_type": "display_data"
    }
   ],
   "source": [
    "#Plot the training results\n",
    "\n",
    "plt.figure(figsize=(12,4)) #Creates a figure with size 12x4\n",
    "\n",
    "plt.subplot(1,2,1) #1 row, 2 columns, first subplot\n",
    "\n",
    "plt.plot(model_history.history['accuracy'], label = 'Training Accuracy') #Plots Training Accuracy\n",
    "plt.plot(model_history.history['val_accuracy'], label = 'Validation Accuracy') #Plots Validation Accuracy\n",
    "plt.title(\"Training Accuracy vs Validation Accuracy\") #Gives the subplot its title\n",
    "plt.xlabel(\"Number of Epochs\") #Label for x-axis\n",
    "plt.ylabel(\"Accuracy (%)\") #Label for y-axis\n",
    "plt.legend() #Adds graphic to show which line is which\n",
    "\n",
    "plt.subplot(1,2,2) #1 row, 2 columns, second subplot\n",
    "\n",
    "plt.plot(model_history.history['loss'], label = 'Traing Loss') #Plots Training Loss\n",
    "plt.plot(model_history.history['val_loss'], label = 'Validation Loss') #Plots Validation Loss\n",
    "plt.title(\"Training Loss vs Validation Loss\") #Gives the subplot its title\n",
    "plt.xlabel(\"Number of Epochs\") #Label for x-axis\n",
    "plt.ylabel(\"Loss\") #Label for y-axis\n",
    "plt.legend() #Adds graphic to show which line is which\n",
    "\n",
    "plt.show() #Displays the figure with the two subplots"
   ]
  },
  {
   "cell_type": "code",
   "execution_count": null,
   "id": "42dea64c",
   "metadata": {},
   "outputs": [],
   "source": [
    "#Training and Validation accuracy level out just below 100%. Means we have good generalisation and minimal overfitting\n",
    "#Training and Validation loss follow similar trend to accuracy curves"
   ]
  },
  {
   "cell_type": "code",
   "execution_count": 43,
   "id": "37ee0a9e",
   "metadata": {},
   "outputs": [
    {
     "name": "stdout",
     "output_type": "stream",
     "text": [
      "\u001b[1m313/313\u001b[0m \u001b[32m━━━━━━━━━━━━━━━━━━━━\u001b[0m\u001b[37m\u001b[0m \u001b[1m6s\u001b[0m 20ms/step\n"
     ]
    },
    {
     "data": {
      "image/png": "[encoded data removed]",
      "text/plain": [
       "<Figure size 1000x1000 with 9 Axes>"
      ]
     },
     "metadata": {},
     "output_type": "display_data"
    }
   ],
   "source": [
    "predictions = np.argmax(model.predict(X_test), axis=-1) #Get predicted class labels for test \n",
    "\n",
    "#Showing first 9 test images with true and predicted labels\n",
    "plt.figure(figsize=(10,10)) #Creates a figure of size 10x10\n",
    "for i in range(9): #Plot first 9 test images with predictions\n",
    "    plt.subplot(3, 3, i+1) #3 rows, 3 columns\n",
    "    plt.imshow(X_test[i].reshape(28,28), cmap='gist_grey') #Display image in grayscale\n",
    "    plt.title(f\"True: {y_test[i]}, Prediction: {predictions[i]}\") #Title with true and predicted labels\n",
    "    plt.axis('off') #Turn off axis\n",
    "    \n",
    "plt.suptitle(\"Predictions of hand-written numbers for CNN Model\") #Overall title for the figure\n",
    "plt.show() #Display the figure"
   ]
  },
  {
   "cell_type": "code",
   "execution_count": 48,
   "id": "54443629",
   "metadata": {},
   "outputs": [
    {
     "name": "stdout",
     "output_type": "stream",
     "text": [
      "Training fold: 1\n",
      "Epoch 1/3\n",
      "\u001b[1m313/313\u001b[0m \u001b[32m━━━━━━━━━━━━━━━━━━━━\u001b[0m\u001b[37m\u001b[0m \u001b[1m74s\u001b[0m 220ms/step - accuracy: 0.8518 - loss: 0.5051 - val_accuracy: 0.1152 - val_loss: 18.0770\n",
      "Epoch 2/3\n",
      "\u001b[1m313/313\u001b[0m \u001b[32m━━━━━━━━━━━━━━━━━━━━\u001b[0m\u001b[37m\u001b[0m \u001b[1m65s\u001b[0m 208ms/step - accuracy: 0.9737 - loss: 0.0968 - val_accuracy: 0.9565 - val_loss: 0.1794\n",
      "Epoch 3/3\n",
      "\u001b[1m313/313\u001b[0m \u001b[32m━━━━━━━━━━━━━━━━━━━━\u001b[0m\u001b[37m\u001b[0m \u001b[1m67s\u001b[0m 215ms/step - accuracy: 0.9810 - loss: 0.0683 - val_accuracy: 0.9850 - val_loss: 0.0501\n",
      "Training fold: 2\n",
      "Epoch 1/3\n",
      "\u001b[1m313/313\u001b[0m \u001b[32m━━━━━━━━━━━━━━━━━━━━\u001b[0m\u001b[37m\u001b[0m \u001b[1m69s\u001b[0m 208ms/step - accuracy: 0.8588 - loss: 0.4868 - val_accuracy: 0.1141 - val_loss: 31.8782\n",
      "Epoch 2/3\n",
      "\u001b[1m313/313\u001b[0m \u001b[32m━━━━━━━━━━━━━━━━━━━━\u001b[0m\u001b[37m\u001b[0m \u001b[1m62s\u001b[0m 197ms/step - accuracy: 0.9739 - loss: 0.0968 - val_accuracy: 0.9639 - val_loss: 0.1450\n",
      "Epoch 3/3\n",
      "\u001b[1m313/313\u001b[0m \u001b[32m━━━━━━━━━━━━━━━━━━━━\u001b[0m\u001b[37m\u001b[0m \u001b[1m62s\u001b[0m 199ms/step - accuracy: 0.9824 - loss: 0.0609 - val_accuracy: 0.9851 - val_loss: 0.0543\n",
      "Training fold: 3\n",
      "Epoch 1/3\n",
      "\u001b[1m313/313\u001b[0m \u001b[32m━━━━━━━━━━━━━━━━━━━━\u001b[0m\u001b[37m\u001b[0m \u001b[1m74s\u001b[0m 213ms/step - accuracy: 0.8547 - loss: 0.4961 - val_accuracy: 0.1089 - val_loss: 27.5377\n",
      "Epoch 2/3\n",
      "\u001b[1m313/313\u001b[0m \u001b[32m━━━━━━━━━━━━━━━━━━━━\u001b[0m\u001b[37m\u001b[0m \u001b[1m64s\u001b[0m 203ms/step - accuracy: 0.9744 - loss: 0.0949 - val_accuracy: 0.9778 - val_loss: 0.0878\n",
      "Epoch 3/3\n",
      "\u001b[1m313/313\u001b[0m \u001b[32m━━━━━━━━━━━━━━━━━━━━\u001b[0m\u001b[37m\u001b[0m \u001b[1m66s\u001b[0m 211ms/step - accuracy: 0.9833 - loss: 0.0590 - val_accuracy: 0.9786 - val_loss: 0.0800\n"
     ]
    }
   ],
   "source": [
    "#Simulation of k-fold cross-validation\n",
    "\n",
    "k_fold = KFold(n_splits=3) #3-fold cross-validation\n",
    "fold = 1 #starting number of folds\n",
    "for training_index, validation_index in k_fold.split(X_train): #Splits training data into mutliple different folds\n",
    "    print(f\"Training fold: {fold}\")\n",
    "    model = build_model() #builds new model\n",
    "    model.fit(X_train[training_index], y_train[training_index], #ensures model is trained in the fold\n",
    "              validation_data = (X_train[validation_index], y_train[validation_index]), #validated with remaining data\n",
    "              epochs=3, #lowered for sake of speed\n",
    "              batch_size=128,\n",
    "              verbose=1\n",
    "              )\n",
    "    fold += 1 #goes to next fold and restarts process\n"
   ]
  },
  {
   "cell_type": "code",
   "execution_count": 45,
   "id": "c35b6263",
   "metadata": {},
   "outputs": [
    {
     "name": "stdout",
     "output_type": "stream",
     "text": [
      "Epoch 1/5\n",
      "\u001b[1m750/750\u001b[0m \u001b[32m━━━━━━━━━━━━━━━━━━━━\u001b[0m\u001b[37m\u001b[0m \u001b[1m106s\u001b[0m 134ms/step - accuracy: 0.8773 - loss: 0.4294 - val_accuracy: 0.9808 - val_loss: 0.0725\n",
      "Epoch 2/5\n",
      "\u001b[1m750/750\u001b[0m \u001b[32m━━━━━━━━━━━━━━━━━━━━\u001b[0m\u001b[37m\u001b[0m \u001b[1m89s\u001b[0m 118ms/step - accuracy: 0.9748 - loss: 0.0981 - val_accuracy: 0.9852 - val_loss: 0.0581\n",
      "Epoch 3/5\n",
      "\u001b[1m750/750\u001b[0m \u001b[32m━━━━━━━━━━━━━━━━━━━━\u001b[0m\u001b[37m\u001b[0m \u001b[1m91s\u001b[0m 121ms/step - accuracy: 0.9829 - loss: 0.0684 - val_accuracy: 0.9846 - val_loss: 0.0588\n",
      "Epoch 4/5\n",
      "\u001b[1m750/750\u001b[0m \u001b[32m━━━━━━━━━━━━━━━━━━━━\u001b[0m\u001b[37m\u001b[0m \u001b[1m89s\u001b[0m 119ms/step - accuracy: 0.9836 - loss: 0.0607 - val_accuracy: 0.9837 - val_loss: 0.0699\n",
      "Epoch 5/5\n",
      "\u001b[1m750/750\u001b[0m \u001b[32m━━━━━━━━━━━━━━━━━━━━\u001b[0m\u001b[37m\u001b[0m \u001b[1m94s\u001b[0m 125ms/step - accuracy: 0.9877 - loss: 0.0466 - val_accuracy: 0.9900 - val_loss: 0.0507\n",
      "Validation accuracy with batch size of 64:  0.9900000095367432\n"
     ]
    }
   ],
   "source": [
    "#We are decreasing the batch size to see how it impacts accuracy, prediction is that it will take longer to train but slightly imporve the accuracy\n",
    "\n",
    "model_smaller_batch_size = build_model()\n",
    "model_history_smaller_batch_size = model_smaller_batch_size.fit(\n",
    "    X_train, y_train,\n",
    "    epochs = 5,\n",
    "    batch_size = 64, #decreased batch size\n",
    "    validation_split = 0.2,\n",
    "    verbose = 1\n",
    ")\n",
    "\n",
    "print(\"Validation accuracy with batch size of 64: \", model_history_smaller_batch_size.history['val_accuracy'][-1])"
   ]
  },
  {
   "cell_type": "code",
   "execution_count": null,
   "id": "62fb13bb",
   "metadata": {},
   "outputs": [],
   "source": [
    "#As expected, the validation accuracy slightly increases, but computation takes roughly twice as long"
   ]
  },
  {
   "cell_type": "code",
   "execution_count": 44,
   "id": "f4f9c167",
   "metadata": {},
   "outputs": [],
   "source": [
    "#model.save(\"model_name\")"
   ]
  }
 ],
 "metadata": {
  "kernelspec": {
   "display_name": "Python 3",
   "language": "python",
   "name": "python3"
  },
  "language_info": {
   "codemirror_mode": {
    "name": "ipython",
    "version": 3
   },
   "file_extension": ".py",
   "mimetype": "text/x-python",
   "name": "python",
   "nbconvert_exporter": "python",
   "pygments_lexer": "ipython3",
   "version": "3.12.9"
  }
 },
 "nbformat": 4,
 "nbformat_minor": 5
}
