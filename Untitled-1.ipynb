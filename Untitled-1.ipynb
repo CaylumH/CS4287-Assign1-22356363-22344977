{
 "cells": [
  {
   "cell_type": "code",
   "execution_count": 1,
   "id": "cca19ebd",
   "metadata": {},
   "outputs": [],
   "source": [
    "# Joe Considine (22344977)\n",
    "# Caylum Hurley (22356363)\n",
    "\n",
    "#Does code execute without errors?\n",
    "#Dataset used: "
   ]
  },
  {
   "cell_type": "code",
   "execution_count": 2,
   "id": "596bc881",
   "metadata": {},
   "outputs": [],
   "source": [
    "import tensorflow as tf\n",
    "from tensorflow import keras\n",
    "from tensorflow.keras import layers\n",
    "import matplotlib.pyplot as plt\n",
    "import numpy as np"
   ]
  },
  {
   "cell_type": "code",
   "execution_count": null,
   "id": "c8e6ba30",
   "metadata": {},
   "outputs": [],
   "source": [
    "np.random.seed(1671)\n",
    "tf.random.set_seed(1671)\n",
    "\n",
    "EPOCHS = 10          # How many times the network will look at all training data\n",
    "BATCH_SIZE = 128      # How many images at a time the network looks at before updating weights\n",
    "NB_CLASSES = 10       # 10 digits (0–9)\n",
    "N_HIDDEN = 128        # Number of neurons in hidden layer\n",
    "VALIDATION_SPLIT=0.2  # 20% of training data used to check performance during training"
   ]
  },
  {
   "cell_type": "code",
   "execution_count": null,
   "id": "2a7e6c9f",
   "metadata": {},
   "outputs": [
    {
     "name": "stdout",
     "output_type": "stream",
     "text": [
      "Downloading data from https://storage.googleapis.com/tensorflow/tf-keras-datasets/mnist.npz\n",
      "\u001b[1m11490434/11490434\u001b[0m \u001b[32m━━━━━━━━━━━━━━━━━━━━\u001b[0m\u001b[37m\u001b[0m \u001b[1m1s\u001b[0m 0us/step\n",
      "Training data shape: {(60000, 28, 28)}\n"
     ]
    }
   ],
   "source": [
    "(x_train, y_train), (x_test, y_test) = keras.datasets.mnist.load_data() # Load MNIST dataset\n",
    "\n",
    "# x_train is training image to teach the model\n",
    "# y_train is the label (Correct answer) for the training image\n",
    "# x_test is testing image (new unseen image) to test the model to see how well it has learned\n",
    "# y_test is the label (Correct answer) for the testing image\n",
    "\n",
    "print(\"Training data shape:\", {x_train.shape})\n",
    "print(\"Test data shape:\", x_test.shape)"
   ]
  },
  {
   "cell_type": "code",
   "execution_count": null,
   "id": "14d4d719",
   "metadata": {},
   "outputs": [],
   "source": [
    "X_train, X_test = X_train / 255.0, X_test / 255.0\n",
    "\n",
    "X_train = X_train.reshape(60000, 784)\n",
    "X_test = X_test.reshape(10000, 784)\n"
   ]
  },
  {
   "cell_type": "code",
   "execution_count": null,
   "id": "bc0aa41e",
   "metadata": {},
   "outputs": [],
   "source": [
    "model = tf.keras.models.Sequential([\n",
    "    tf.keras.Input(shape=(784,)),\n",
    "    tf.keras.layers.Dense(NB_CLASSES),\n",
    "    tf.keras.layers.Activation('softmax')\n",
    "])\n"
   ]
  },
  {
   "cell_type": "code",
   "execution_count": null,
   "id": "363b342e",
   "metadata": {},
   "outputs": [],
   "source": [
    "model.compile(optimizer='SGD',\n",
    "              loss='categorical_crossentropy',\n",
    "              metrics=['accuracy'])\n"
   ]
  },
  {
   "cell_type": "code",
   "execution_count": null,
   "id": "a318e041",
   "metadata": {},
   "outputs": [],
   "source": [
    "model.compile(\n",
    "    optimizer='adam',  # Optimizer adjusts weights during training\n",
    "    loss='sparse_categorical_crossentropy',  # Loss function for multi-class labels\n",
    "    metrics=['accuracy']  # Track accuracy during training\n",
    ")"
   ]
  },
  {
   "cell_type": "code",
   "execution_count": null,
   "id": "bc9349cc",
   "metadata": {},
   "outputs": [],
   "source": [
    "model_history = model.fit(X_train, y_train,\n",
    "                          batch_size=BATCH_SIZE,\n",
    "                          epochs=EPOCHS,\n",
    "                          verbose=1,\n",
    "                          validation_split=VALIDATION_SPLIT)\n"
   ]
  },
  {
   "cell_type": "code",
   "execution_count": null,
   "id": "541b756b",
   "metadata": {},
   "outputs": [],
   "source": [
    "test_loss, test_acc = model.evaluate(X_test, y_test)\n",
    "print('Test accuracy:', test_acc)\n"
   ]
  },
  {
   "cell_type": "code",
   "execution_count": null,
   "id": "470e4686",
   "metadata": {},
   "outputs": [],
   "source": [
    "plt.plot(model_history.history['loss'])\n",
    "plt.plot(model_history.history['val_loss'])\n"
   ]
  }
 ],
 "metadata": {
  "kernelspec": {
   "display_name": "Python 3",
   "language": "python",
   "name": "python3"
  },
  "language_info": {
   "codemirror_mode": {
    "name": "ipython",
    "version": 3
   },
   "file_extension": ".py",
   "mimetype": "text/x-python",
   "name": "python",
   "nbconvert_exporter": "python",
   "pygments_lexer": "ipython3",
   "version": "3.11.9"
  }
 },
 "nbformat": 4,
 "nbformat_minor": 5
}
