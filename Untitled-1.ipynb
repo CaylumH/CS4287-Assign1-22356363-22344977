{
 "cells": [
  {
   "cell_type": "code",
   "execution_count": 7,
   "id": "cca19ebd",
   "metadata": {},
   "outputs": [],
   "source": [
    "# Joe Considine (22344977)\n",
    "# Caylum Hurley (22356363)\n",
    "\n",
    "#Does code execute without errors?\n",
    "#Dataset used: "
   ]
  },
  {
   "cell_type": "code",
   "execution_count": 8,
   "id": "596bc881",
   "metadata": {},
   "outputs": [],
   "source": [
    "#Imports\n",
    "\n",
    "import numpy as np # nummeric arrays\n",
    "import pandas as pd # dataframes/csv handling\n",
    "import tensorflow as tf # model and training\n",
    "import matplotlib.pyplot as plt # plotting\n",
    "import shutil # file handling\n",
    "import random # sampling\n",
    "import os # file path operations\n",
    "import itertools # confusion matrix plotting\n",
    "\n",
    "# For model and training\n",
    "from tensorflow import keras\n",
    "from tensorflow.keras import layers\n",
    "from tensorflow.keras.preprocessing import image_dataset_from_directory\n",
    "\n",
    "from sklearn.preprocessing import LabelEncoder\n",
    "from sklearn.metrics import classification_report, confusion_matrix # for model evaluation\n",
    "from sklearn.model_selection import train_test_split # for splitting data\n",
    "from glob import glob # file pattern matching\n",
    "\n",
    "# Random seed for reproducibility\n",
    "seed = 42\n",
    "random.seed(seed)\n",
    "tf.random.set_seed(seed)\n",
    "np.random.seed(seed)"
   ]
  },
  {
   "cell_type": "code",
   "execution_count": 9,
   "id": "2a7e6c9f",
   "metadata": {},
   "outputs": [
    {
     "name": "stdout",
     "output_type": "stream",
     "text": [
      "Dataset size  117\n",
      "Number of breeds  103\n",
      "                Breed Country of Origin                     Fur Color  \\\n",
      "0  Labrador Retriever            Canada      Yellow, Black, Chocolate   \n",
      "1     German Shepherd           Germany                    Black, Tan   \n",
      "2             Bulldog           England                    White, Red   \n",
      "3              Poodle            France  White, Black, Brown, Apricot   \n",
      "4              Beagle           England        White, Tan, Red, Lemon   \n",
      "\n",
      "  Height (in) Color of Eyes Longevity (yrs)  \\\n",
      "0       21-24         Brown          12-Oct   \n",
      "1       22-26         Brown          10-Jul   \n",
      "2      16-Dec         Brown          10-Aug   \n",
      "3      15-Oct   Brown, Blue          15-Dec   \n",
      "4       13-15         Brown          15-Dec   \n",
      "\n",
      "                                    Character Traits  \\\n",
      "0  Loyal, friendly, intelligent, energetic, good-...   \n",
      "1  Loyal, intelligent, protective, confident, tra...   \n",
      "2                         Loyal, calm, gentle, brave   \n",
      "3  Intelligent, active, affectionate, hypoallergenic   \n",
      "4         Curious, friendly, energetic, good-natured   \n",
      "\n",
      "                         Common Health Problems  \n",
      "0        Hip dysplasia, obesity, ear infections  \n",
      "1  Hip dysplasia, elbow dysplasia, pancreatitis  \n",
      "2   Skin allergies, respiratory issues, obesity  \n",
      "3       Hip dysplasia, epilepsy, bladder stones  \n",
      "4       Ear infections, hip dysplasia, epilepsy  \n"
     ]
    }
   ],
   "source": [
    "data_directory = \"Miscellaneous\" # Dataset from Kaggle\n",
    "csv_file = os.path.join(data_directory, \"dog_breeds(in).csv\") \n",
    "image_directory = os.path.join(data_directory, \"train\") # Image directory\n",
    "\n",
    "# Load labels from csv\n",
    "labels = pd.read_csv(csv_file) \n",
    "print(\"Dataset size \", len(labels)) \n",
    "print(\"Number of breeds \", labels['Breed'].nunique())\n",
    "print(labels.head())"
   ]
  },
  {
   "cell_type": "code",
   "execution_count": 11,
   "id": "526adac4",
   "metadata": {},
   "outputs": [
    {
     "name": "stdout",
     "output_type": "stream",
     "text": [
      "Number of unique breeds:  103\n"
     ]
    }
   ],
   "source": [
    "label_encoder = LabelEncoder()\n",
    "labels['Breed_Encoded'] = label_encoder.fit_transform(labels['Breed'])\n",
    "\n",
    "number_of_classes = len(label_encoder.classes_)\n",
    "print(\"Number of unique breeds: \", number_of_classes)\n",
    "\n",
    "def load_and_preprocess_image(image_path, label):\n",
    "    image_path = tf.strings.join([image_directory, \"/\", image_path, \".jpg\"])\n",
    "    image = tf.io.read_file(image_path)\n",
    "    image = tf.image.decode_jpeg(image, channels=3)\n",
    "    image = tf.image.resize(image, [224, 224])\n",
    "    image = image / 255.0  # Normalize to [0,1]\n",
    "    return image, label"
   ]
  }
 ],
 "metadata": {
  "kernelspec": {
   "display_name": "Python 3",
   "language": "python",
   "name": "python3"
  },
  "language_info": {
   "codemirror_mode": {
    "name": "ipython",
    "version": 3
   },
   "file_extension": ".py",
   "mimetype": "text/x-python",
   "name": "python",
   "nbconvert_exporter": "python",
   "pygments_lexer": "ipython3",
   "version": "3.12.9"
  }
 },
 "nbformat": 4,
 "nbformat_minor": 5
}
