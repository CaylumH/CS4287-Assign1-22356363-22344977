{
 "cells": [
  {
   "cell_type": "code",
   "execution_count": null,
   "id": "cca19ebd",
   "metadata": {},
   "outputs": [],
   "source": [
    "# Joe Considine (22344977)\n",
    "# Caylum Hurley (22356363)\n",
    "\n",
    "#Does code execute without errors?\n",
    "#Dataset used: "
   ]
  },
  {
   "cell_type": "code",
   "execution_count": null,
   "id": "596bc881",
   "metadata": {},
   "outputs": [],
   "source": [
    "#Imports\n",
    "\n",
    "import numpy as np # nummeric arrays\n",
    "import pandas as pd # dataframes/csv handling\n",
    "import tensorflow as tf # model and training\n",
    "import matplotlib.pyplot as plt # plotting\n",
    "import shutil # file handling\n",
    "import random # sampling\n",
    "import os # file path operations\n",
    "import itertools # confusion matrix plotting\n",
    "\n",
    "# For model and training\n",
    "from tensorflow import keras\n",
    "from tensorflow.keras import layers\n",
    "from tensorflow.keras.preprocessing import image_dataset_from_directory\n",
    "\n",
    "from sklearn.preprocessing import LabelEncoder\n",
    "from sklearn.metrics import classification_report, confusion_matrix # for model evaluation\n",
    "from sklearn.model_selection import train_test_split # for splitting data\n",
    "from glob import glob # file pattern matching\n",
    "\n",
    "# Random seed for reproducibility\n",
    "seed = 42\n",
    "random.seed(seed)\n",
    "tf.random.set_seed(seed)\n",
    "np.random.seed(seed)"
   ]
  },
  {
   "cell_type": "code",
   "execution_count": null,
   "id": "2a7e6c9f",
   "metadata": {},
   "outputs": [],
   "source": [
    "data_directory = \"C:/Users/joeco/OneDrive/Documents/CS4287/archive(1)/\" # Dataset from Kaggle\n",
    "csv_file = os.path.join(data_directory, \"dog_breeds.csv\") \n",
    "image_directory = os.path.join(data_directory, \"train\") # Image directory\n",
    "\n",
    "# Load labels from csv\n",
    "labels = pd.read_csv(csv_file) \n",
    "print(\"Dataset size \", len(labels)) \n",
    "print(\"Number of breeds \", labels['Breed'].nunique())\n",
    "print(labels.head())"
   ]
  },
  {
   "cell_type": "code",
   "execution_count": null,
   "id": "526adac4",
   "metadata": {},
   "outputs": [],
   "source": [
    "label_encoder = LabelEncoder()\n",
    "labels['Breed_Encoded'] = label_encoder.fit_transform(labels['Breed'])\n",
    "\n",
    "def load_and_preprocess_image(image_path, label):\n",
    "    image = tf.io.read_file(image_path)\n",
    "    image = tf.image.decode_jpeg(image, channels=3)\n",
    "    image = tf.image.resize(image, [224, 224])\n",
    "    image = image / 255.0  # Normalize to [0,1]\n",
    "    return image, label"
   ]
  }
 ],
 "metadata": {
  "language_info": {
   "name": "python"
  }
 },
 "nbformat": 4,
 "nbformat_minor": 5
}
